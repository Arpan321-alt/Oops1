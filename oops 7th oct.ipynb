{
 "cells": [
  {
   "cell_type": "code",
   "execution_count": 1,
   "id": "8b6a7b1a-3ff5-4b22-be3e-d3b2d7aa7e3a",
   "metadata": {},
   "outputs": [],
   "source": [
    "class a :\n",
    "    \n",
    "    def test(self):\n",
    "        print(\"this test method is a part of class a\")\n",
    "        \n",
    "    def test1(self):\n",
    "        print(\"this is test1 from class a \")"
   ]
  },
  {
   "cell_type": "code",
   "execution_count": 2,
   "id": "8e4d306f-fdb4-47a0-a93d-597f5b21d30b",
   "metadata": {},
   "outputs": [],
   "source": [
    "obj_a = a()"
   ]
  },
  {
   "cell_type": "code",
   "execution_count": 3,
   "id": "81ef5597-cf96-4ed9-a4f6-21e2e93aca70",
   "metadata": {},
   "outputs": [
    {
     "name": "stdout",
     "output_type": "stream",
     "text": [
      "this test method is a part of class a\n"
     ]
    }
   ],
   "source": [
    "obj_a.test()"
   ]
  },
  {
   "cell_type": "code",
   "execution_count": 4,
   "id": "11ee63d6-433d-48dc-ada0-5dd6771310ba",
   "metadata": {},
   "outputs": [],
   "source": [
    "class b(a) :\n",
    "    def test1b(self):\n",
    "        print(\"this is a part of class b \")"
   ]
  },
  {
   "cell_type": "code",
   "execution_count": 5,
   "id": "badaedfe-57d1-43c6-9193-e5afb0f31dbc",
   "metadata": {},
   "outputs": [],
   "source": [
    "obj_b = b()"
   ]
  },
  {
   "cell_type": "code",
   "execution_count": 6,
   "id": "3ce19f61-ba8e-4050-9d4d-614adfd964c5",
   "metadata": {},
   "outputs": [
    {
     "name": "stdout",
     "output_type": "stream",
     "text": [
      "this test method is a part of class a\n"
     ]
    }
   ],
   "source": [
    "obj_b.test()"
   ]
  },
  {
   "cell_type": "code",
   "execution_count": 7,
   "id": "5e473fae-e094-4407-99df-16a04ab4c80a",
   "metadata": {},
   "outputs": [
    {
     "name": "stdout",
     "output_type": "stream",
     "text": [
      "this is test1 from class a \n"
     ]
    }
   ],
   "source": [
    "obj_b.test1()"
   ]
  },
  {
   "cell_type": "code",
   "execution_count": 8,
   "id": "02a8f055-535f-4bc2-adc1-575445f82570",
   "metadata": {},
   "outputs": [
    {
     "ename": "SyntaxError",
     "evalue": "invalid syntax (2976744424.py, line 1)",
     "output_type": "error",
     "traceback": [
      "\u001b[1;36m  Cell \u001b[1;32mIn[8], line 1\u001b[1;36m\u001b[0m\n\u001b[1;33m    obj_b.\u001b[0m\n\u001b[1;37m          ^\u001b[0m\n\u001b[1;31mSyntaxError\u001b[0m\u001b[1;31m:\u001b[0m invalid syntax\n"
     ]
    }
   ],
   "source": [
    "obj_b."
   ]
  },
  {
   "cell_type": "code",
   "execution_count": null,
   "id": "59361cd3-c0c4-4ddd-abac-cbe3275ade5f",
   "metadata": {},
   "outputs": [],
   "source": [
    "class lecture:\n",
    "    \n",
    "    def topic(self):\n",
    "        print(\"todays class we are discussing about inheritance condept in oops\")\n",
    "        \n",
    "    def timing(self):\n",
    "        print(\"timing for todays class is 9 AM IST\")\n",
    "        \n",
    "    def end_time(self):\n",
    "        print(\"today i will try to end class bit early\")"
   ]
  },
  {
   "cell_type": "code",
   "execution_count": null,
   "id": "6e3dd2de-883e-4e9e-98a0-4a7089af1627",
   "metadata": {},
   "outputs": [],
   "source": [
    "class student(lecture):\n",
    "    \n",
    "    def student_details(self):\n",
    "        print(\"this class will give you a student details\")"
   ]
  },
  {
   "cell_type": "code",
   "execution_count": null,
   "id": "c2ad2a89-0f29-4410-86c4-e33f47b4186d",
   "metadata": {},
   "outputs": [],
   "source": [
    "naval = student()"
   ]
  },
  {
   "cell_type": "code",
   "execution_count": null,
   "id": "38c86e7f-5560-464a-b597-c88a74819f1a",
   "metadata": {},
   "outputs": [],
   "source": [
    "naval.topic()"
   ]
  },
  {
   "cell_type": "code",
   "execution_count": null,
   "id": "02efc8a4-f995-4f85-87d2-620ccc0f61fa",
   "metadata": {},
   "outputs": [],
   "source": [
    "satish = student()\n",
    "satish.timing()"
   ]
  },
  {
   "cell_type": "code",
   "execution_count": null,
   "id": "03932972-a58b-46e5-a3f8-ffc43c84ce53",
   "metadata": {},
   "outputs": [],
   "source": [
    "class teacher(student):\n",
    "    def details(self):\n",
    "        print(\"this will give you a details about teacher\")"
   ]
  },
  {
   "cell_type": "code",
   "execution_count": null,
   "id": "fff36c1b-f1e9-467e-b29f-c304aa9feec9",
   "metadata": {},
   "outputs": [],
   "source": [
    "sudh = teacher()\n",
    "sudh.timing()"
   ]
  },
  {
   "cell_type": "code",
   "execution_count": null,
   "id": "a5e8c94b-de62-4ef5-8eba-81259d83dd3d",
   "metadata": {},
   "outputs": [],
   "source": [
    "class lecture:\n",
    "    def topic(self):\n",
    "        print(\"todays class we are discussing about inheritance condept in oops\")\n",
    "        \n",
    "    def timing(self):\n",
    "        print(\"timing for todays class is 9 AM IST\")\n",
    "        \n",
    "    def end_time(self):\n",
    "        print(\"today i will try to end class bit early\")"
   ]
  },
  {
   "cell_type": "code",
   "execution_count": null,
   "id": "2007141c-1b71-4cd4-9bed-a3cd8d851baa",
   "metadata": {},
   "outputs": [],
   "source": [
    "class student:\n",
    "    \n",
    "    def student_details(self):\n",
    "        print(\"this class will give you a student details\")\n",
    "        \n",
    "    def timing(self):\n",
    "        print(\"this is a timing fun from student class\")\n",
    "        "
   ]
  },
  {
   "cell_type": "code",
   "execution_count": null,
   "id": "272860d3-1fac-475b-8c09-0490069224bc",
   "metadata": {},
   "outputs": [],
   "source": [
    "class teacher(lecture,student):\n",
    "    def details(self):\n",
    "        print(\"this will give you a details about teacher\")"
   ]
  },
  {
   "cell_type": "code",
   "execution_count": null,
   "id": "f4a9ae16-f0e3-4a4a-a003-38773611cd2a",
   "metadata": {},
   "outputs": [],
   "source": [
    "krish = teacher()"
   ]
  },
  {
   "cell_type": "code",
   "execution_count": null,
   "id": "6dc85f37-219e-4c72-927c-9aebb550fea9",
   "metadata": {},
   "outputs": [],
   "source": [
    "krish.timing()"
   ]
  },
  {
   "cell_type": "code",
   "execution_count": null,
   "id": "8bcbac88-9172-4a31-a191-9c4b9a1c6eac",
   "metadata": {},
   "outputs": [],
   "source": [
    "krish.student_details()"
   ]
  },
  {
   "cell_type": "markdown",
   "id": "86b47d4f-860e-4702-83a0-0145887ab41a",
   "metadata": {},
   "source": [
    "Problem 1: Bank Account Create a class representing a bank account with attributes like account number, account holder name, and balance. Implement methods to deposit and withdraw money from the account.\n",
    "\n",
    "Problem 2: Employee Management Create a class representing an employee with attributes like employee ID, name, and salary. Implement methods to calculate the yearly bonus and display employee details.\n",
    "\n",
    "Problem 3: Vehicle Rental Create a class representing a vehicle rental system. Implement methods to rent a vehicle, return a vehicle, and display available vehicles.\n",
    "\n",
    "Problem 4: Library Catalog Create classes representing a library and a book. Implement methods to add books to the library, borrow books, and display available books.\n",
    "\n",
    "Problem 5: Product Inventory Create classes representing a product and an inventory system. Implement methods to add products to the inventory, update product quantity, and display available products.\n",
    "\n",
    "Problem 6: Shape Calculation Create a class representing a shape with attributes like length, width, and height. Implement methods to calculate the area and perimeter of the shape.\n",
    "\n",
    "Problem 7: Student Management Create a class representing a student with attributes like student ID, name, and grades. Implement methods to calculate the average grade and display student details.\n",
    "\n",
    "Problem 8: Email Management Create a class representing an email with attributes like sender, recipient, and subject. Implement methods to send an email and display email details.\n",
    "\n",
    "Problem 9: Social Media Profile Create a class representing a social media profile with attributes like username and posts. Implement methods to add posts, display posts, and search for posts by keyword.\n",
    "\n",
    "Problem 10: ToDo List Create a class representing a ToDo list with attributes like tasks and due dates. Implement methods to add tasks, mark tasks as completed, and display pending tasks."
   ]
  },
  {
   "cell_type": "code",
   "execution_count": null,
   "id": "fef1683a-faa4-4d27-a0a6-7a742e512e9b",
   "metadata": {},
   "outputs": [],
   "source": [
    "#Problem 1: Bank Account Create a class representing a bank account with attributes like account number, \n",
    "#account holder name, and balance. Implement methods to deposit and withdraw money from the account.\n",
    "class bank:\n",
    "    def __init__(self,account_number,account_holder,balance):\n",
    "        self.account_number=account_number\n",
    "        self.account_holder=account_holder\n",
    "        self.balance=balance\n",
    "    def deposite(self,deposite_balance):\n",
    "        self.balance=self.balance+deposite_balance\n",
    "    def withdraw(self,withdraw):\n",
    "        self.balance=self.balance-withdraw\n",
    "    def print_balance(self):\n",
    "        print('your current balance is',self.balance)\n",
    "ashish=bank(2345,'ashish kumar',5000)\n",
    "ashish.deposite(2000)\n",
    "ashish.print_balance()\n",
    "ashish.withdraw(1000)\n",
    "ashish.print_balance()"
   ]
  },
  {
   "cell_type": "code",
   "execution_count": null,
   "id": "a3effe1e",
   "metadata": {},
   "outputs": [],
   "source": [
    "#Problem 2: Employee Management Create a class representing an employee with attributes like employee ID, name, and salary. \n",
    "#Implement methods to calculate the yearly bonus and display employee details.\n",
    "class Employee:\n",
    "    def __init__(self,emp_id,name,sal):\n",
    "        self.emp_id=emp_id\n",
    "        self.name=name\n",
    "        self.sal=sal\n",
    "    def calculate(self):\n",
    "        if self.sal>7000:\n",
    "            return 7000*8.33/100\n",
    "        else:\n",
    "            return self.sal*8.33/100\n",
    "    def display(self):\n",
    "        print(f\"employee id is {self.emp_id} employee name is {self.name} salary is {self.sal}\")\n",
    "ashish=Employee(123,'ashish',3000)\n",
    "print(ashish.calculate()*12)\n",
    "ashish.display()"
   ]
  },
  {
   "cell_type": "code",
   "execution_count": 12,
   "id": "e6992d12",
   "metadata": {},
   "outputs": [
    {
     "data": {
      "text/plain": [
       "('available vehicles are', ['alto', 'thar', 'lamborgni', 'mercedez'])"
      ]
     },
     "execution_count": 12,
     "metadata": {},
     "output_type": "execute_result"
    }
   ],
   "source": [
    "#Problem 3: Vehicle Rental Create a class representing a vehicle rental system. \n",
    "#Implement methods to rent a vehicle, return a vehicle, and display available vehicles.\n",
    "class Vehicle:\n",
    "    v=['hundai','alto','thar','lamborgni','mercedez']\n",
    "    def display_vehicle(self):\n",
    "        return 'available vehicles are',self.v\n",
    "    def rent_vehicle(self,name_vehicle):\n",
    "        self.v.remove(name_vehicle)\n",
    "        return 'your vehicle is rented'\n",
    "arpan=Vehicle()\n",
    "arpan.display_vehicle()\n",
    "arpan.rent_vehicle('hundai')\n",
    "arpan.display_vehicle()"
   ]
  },
  {
   "cell_type": "code",
   "execution_count": 13,
   "id": "1578ff84",
   "metadata": {},
   "outputs": [
    {
     "name": "stdout",
     "output_type": "stream",
     "text": [
      "book added\n",
      "book added\n",
      "['dsa', 'data science', 'AI', 'python']\n",
      "None\n",
      "book borrowed\n",
      "['data science', 'AI', 'python']\n",
      "None\n"
     ]
    }
   ],
   "source": [
    "#Problem 4: Library Catalog Create classes representing a library and a book. \n",
    "#Implement methods to add books to the library, borrow books, and display available books.\n",
    "class Library:\n",
    "    books=['dsa','data science']\n",
    "    def add_books(self,book):\n",
    "        self.books.append(book)\n",
    "        return 'book added'\n",
    "    def borrow_books(self,name_book):\n",
    "        self.books.remove(name_book)\n",
    "        return 'book borrowed'\n",
    "    def display(self):\n",
    "        print(self.books)\n",
    "navita=Library()\n",
    "print(navita.add_books('AI'))\n",
    "print(navita.add_books('python'))\n",
    "print(navita.display())\n",
    "print(navita.borrow_books('dsa'))\n",
    "print(navita.display())"
   ]
  },
  {
   "cell_type": "code",
   "execution_count": 14,
   "id": "12e986a5",
   "metadata": {},
   "outputs": [
    {
     "name": "stdout",
     "output_type": "stream",
     "text": [
      "product quantity updated\n",
      "salt --- 8\n",
      "soap --- 7\n",
      "umberala --- 8\n"
     ]
    }
   ],
   "source": [
    "#Problem 5: Product Inventory Create classes representing a product and an inventory system. \n",
    "#Implement methods to add products to the inventory, update product quantity, and display available products.\n",
    "class Product:\n",
    "    def __init__(self,name,quantity):\n",
    "        self.name=name\n",
    "        self.quantity=quantity\n",
    "class Inventory:\n",
    "    product=[]\n",
    "    def add_product(self,product1):\n",
    "        self.product.append(product1)\n",
    "    def display(self):\n",
    "        for i in range(len(self.product)):\n",
    "            print(self.product[i].name,'---',self.product[i].quantity)\n",
    "    def update_product(self,name,quantity):\n",
    "        for i in range(len(self.product)):\n",
    "            if self.product[i].name==name:\n",
    "                self.product[i].quantity=quantity\n",
    "                break\n",
    "        return 'product quantity updated'\n",
    "invent=Inventory()\n",
    "product2=Product('salt',5)\n",
    "product3=Product('soap',7)\n",
    "product4=Product('umberala',8)\n",
    "invent.add_product(product2)\n",
    "invent.add_product(product3)\n",
    "invent.add_product(product4)\n",
    "print(invent.update_product('salt',8))\n",
    "invent.display()"
   ]
  },
  {
   "cell_type": "code",
   "execution_count": 15,
   "id": "b87b9428",
   "metadata": {},
   "outputs": [
    {
     "name": "stdout",
     "output_type": "stream",
     "text": [
      "area and perimeter of square is\n",
      "area is 9\n",
      "perimeter is 12\n",
      "---------------\n",
      "None\n",
      "rectangel area and parameter is\n",
      "area is 12\n",
      "perimeter is 14\n",
      "----------------\n",
      "None\n",
      "area and parameter of triangle is\n",
      "area is 10.0\n",
      "perimeter is 60\n",
      "---------------\n",
      "None\n"
     ]
    }
   ],
   "source": [
    "#Problem 6: Shape Calculation Create a class representing a shape with attributes like length, width, and height. \n",
    "#Implement methods to calculate the area and perimeter of the shape\n",
    "class Shape:\n",
    "    def __init__(self,length,width,height):\n",
    "        self.length=length\n",
    "        self.width=width\n",
    "        self.height=height\n",
    "class Area(Shape):\n",
    "   \n",
    "        def rectangle(self):\n",
    "            print('rectangel area and parameter is')\n",
    "            print('area is',self.length*self.width)\n",
    "            print('perimeter is',2*(self.length+self.width))\n",
    "            print('----------------')\n",
    "        def square(self):\n",
    "            print('area and perimeter of square is')\n",
    "            print('area is',self.length**2)\n",
    "            print('perimeter is',4*self.length)\n",
    "            print('---------------')\n",
    "        def triangle(self):\n",
    "            print('area and parameter of triangle is')\n",
    "            print('area is',1/2*self.width*self.height)\n",
    "            print('perimeter is',self.length*self.width*self.height)\n",
    "            print('---------------')\n",
    "a=Area(3,4,5)\n",
    "print(a.square())\n",
    "print(a.rectangle())\n",
    "print(a.triangle())"
   ]
  },
  {
   "cell_type": "code",
   "execution_count": 16,
   "id": "7d5068f1",
   "metadata": {},
   "outputs": [
    {
     "name": "stdout",
     "output_type": "stream",
     "text": [
      "avinash 123 185.0\n"
     ]
    }
   ],
   "source": [
    "#Problem 7: Student Management Create a class representing a student with attributes like student ID, name, and grades. \n",
    "#Implement methods to calculate the average grade and display student details.\n",
    "class Student:\n",
    "    def __init__(self,student_id,name,maths,science,history,civics):\n",
    "        self.student_id=student_id\n",
    "        self.name=name\n",
    "        self.maths=maths\n",
    "        self.science=science\n",
    "        self.history=history\n",
    "        self.civics=civics\n",
    "    def display(self):\n",
    "        average_grades=self.maths+self.science+self.history+self.civics/4\n",
    "        print(self.student_id,self.name,average_grades)\n",
    "avinash=Student('avinash',123,44,67,56,72)\n",
    "avinash.display()"
   ]
  },
  {
   "cell_type": "code",
   "execution_count": 17,
   "id": "952cfa8b",
   "metadata": {},
   "outputs": [
    {
     "name": "stdout",
     "output_type": "stream",
     "text": [
      "enter your bodyplease tell me my joining date\n",
      "adarsh\n",
      "wipro\n",
      "joining\n",
      "please tell me my joining date\n"
     ]
    }
   ],
   "source": [
    "#Problem 8: Email Management Create a class representing an email with attributes like sender, recipient, and subject. \n",
    "#Implement methods to send an email and display email details.\n",
    "class Email:\n",
    "    def __init__(self,sender,recipient,subject):\n",
    "        self.sender=sender\n",
    "        self.recipient=recipient\n",
    "        self.subject=subject\n",
    "    def send(self):\n",
    "        \n",
    "        self.body=input('enter your body')\n",
    "    def display(self):\n",
    "        print(self.sender)\n",
    "        print(self.recipient)\n",
    "        print(self.subject)\n",
    "        print(self.body)\n",
    "adarsh=Email('adarsh','wipro','joining')\n",
    "adarsh.send()\n",
    "adarsh.display()"
   ]
  },
  {
   "cell_type": "code",
   "execution_count": 18,
   "id": "35a542f6",
   "metadata": {},
   "outputs": [
    {
     "name": "stdout",
     "output_type": "stream",
     "text": [
      " hi  your post is posted\n",
      " hi  your post is posted\n",
      " hi  your post is posted\n",
      "username is avinash\n",
      "post is pwskills is a prime platform\n",
      "username is ravi\n",
      "post is datascience is the most demandable technology\n",
      "username is kishan\n",
      "post is 295 song is produced by sidhu moosewala\n",
      "your post is displaying on screen\n",
      "295 song is produced by sidhu moosewala\n",
      "your post is fined\n",
      "----------------------\n"
     ]
    }
   ],
   "source": [
    "#Problem 9: Social Media Profile Create a class representing a social media profile with attributes like username and posts. \n",
    "#Implement methods to add posts, display posts, and search for posts by keyword.\n",
    "class Person:\n",
    "    def __init__(self,username,post):\n",
    "        self.username=username\n",
    "        self.post=post\n",
    "\n",
    "class SocialMedia:\n",
    "    post1=[]\n",
    "    def add_post(self,p):\n",
    "        self.post1.append(p)\n",
    "        print(' hi  your post is posted')\n",
    "    def display_post(self):\n",
    "        for i in range(len(self.post1)):\n",
    "            print('username is',self.post1[i].username)\n",
    "            print('post is',self.post1[i].post)\n",
    "        print('your post is displaying on screen')\n",
    "    def search_post(self,keyword):\n",
    "        for i in range(len(self.post1)):\n",
    "            if keyword in self.post1[i].post.split()[0]:\n",
    "                print(self.post1[i].post)\n",
    "                print('your post is fined')\n",
    "                print('----------------------')\n",
    "                break\n",
    "        if i==len(self.post1):\n",
    "            print('sorry your post is not fined')\n",
    "avinash=Person('avinash','pwskills is a prime platform')\n",
    "ravi=Person('ravi','datascience is the most demandable technology')\n",
    "kishan=Person('kishan','295 song is produced by sidhu moosewala')\n",
    "a=SocialMedia()\n",
    "a.add_post(avinash)\n",
    "a.add_post(ravi)\n",
    "a.add_post(kishan)\n",
    "a.display_post()\n",
    "a.search_post('295')"
   ]
  },
  {
   "cell_type": "code",
   "execution_count": 19,
   "id": "097952e5",
   "metadata": {},
   "outputs": [
    {
     "name": "stdout",
     "output_type": "stream",
     "text": [
      "enter your task complettion status in terms of yes and noyes\n",
      "completed\n",
      "enter your task complettion status in terms of yes and noyes\n",
      "completed\n",
      "enter your task complettion status in terms of yes and nono\n",
      "genrate report\n"
     ]
    }
   ],
   "source": [
    "#Problem 10: ToDo List Create a class representing a ToDo list with attributes like tasks and due dates. \n",
    "#Implement methods to add tasks, mark tasks as completed, and display pending tasks.\n",
    "class ToDoList:\n",
    "    addTask=[]\n",
    "    pendingTask=[]\n",
    "    def add_task(self,task):\n",
    "        self.addTask.append(task)\n",
    "    def mark(self):\n",
    "        for i in range(len(self.addTask)):\n",
    "            mark=input('enter your task complettion status in terms of yes and no')\n",
    "            if mark=='yes':\n",
    "                \n",
    "                print('completed')\n",
    "            elif mark=='no':\n",
    "                self.pendingTask.append(self.addTask[i])\n",
    "                self.addTask.remove(self.addTask[i])\n",
    "            else:\n",
    "                break\n",
    "    def displayPendingTask(self):\n",
    "        for i in range(len(self.pendingTask)):\n",
    "            print(self.pendingTask[i])\n",
    "ashish=ToDoList()\n",
    "ashish.add_task('running')\n",
    "ashish.add_task('study')\n",
    "ashish.add_task('genrate report')\n",
    "ashish.mark()\n",
    "ashish.displayPendingTask()"
   ]
  },
  {
   "cell_type": "code",
   "execution_count": null,
   "id": "f82e9f6d",
   "metadata": {},
   "outputs": [],
   "source": []
  }
 ],
 "metadata": {
  "kernelspec": {
   "display_name": "Python 3 (ipykernel)",
   "language": "python",
   "name": "python3"
  },
  "language_info": {
   "codemirror_mode": {
    "name": "ipython",
    "version": 3
   },
   "file_extension": ".py",
   "mimetype": "text/x-python",
   "name": "python",
   "nbconvert_exporter": "python",
   "pygments_lexer": "ipython3",
   "version": "3.11.4"
  }
 },
 "nbformat": 4,
 "nbformat_minor": 5
}
